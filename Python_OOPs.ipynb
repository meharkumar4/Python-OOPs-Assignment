{
  "nbformat": 4,
  "nbformat_minor": 0,
  "metadata": {
    "colab": {
      "provenance": []
    },
    "kernelspec": {
      "name": "python3",
      "display_name": "Python 3"
    },
    "language_info": {
      "name": "python"
    }
  },
  "cells": [
    {
      "cell_type": "markdown",
      "source": [
        "#Python OOPs"
      ],
      "metadata": {
        "id": "IKA3bDeAE2IX"
      }
    },
    {
      "cell_type": "markdown",
      "source": [
        "1. What is Object-Oriented Programming (OOP)?\n",
        "- Object-Oriented Programming (OOP) is a programming paradigm based on objects, which encapsulate data and behavior. It follows four main principles: encapsulation, abstraction, inheritance, and polymorphism, enabling modular, reusable, and scalable code for efficient software development and problem-solving.\n",
        "2.  What is a class in OOP?\n",
        "- In Object-Oriented Programming (OOP), a **class** is a blueprint or template for creating objects. It defines attributes (data) and methods (behavior) that objects of the class will have. Classes enable code reusability, organization, and modular programming.\n",
        "3. What is an object in OOP?\n",
        "- An **object** in Object-Oriented Programming (OOP) is an instance of a class. It has a unique identity, state (attributes/data), and behavior (methods/functions). Objects allow interaction with data and functionality, making programming more modular, reusable, and scalable.\n",
        "4. What is the difference between abstraction and encapsulation?\n",
        "- Abstraction and encapsulation are key principles of Object-Oriented Programming (OOP), but they serve different purposes. **Abstraction** focuses on hiding complex implementation details and exposing only the essential features to the user, making the system easier to use and understand. It is achieved using abstract classes and interfaces. **Encapsulation**, on the other hand, is the practice of bundling data (variables) and methods (functions) that operate on the data into a single unit (class) while restricting direct access to some details. It is implemented using access modifiers (private, protected, public) to ensure data security and prevent unintended interference.\n",
        "5. What are dunder methods in Python?\n",
        "- Dunder methods (short for double underscore methods) in Python are special methods that begin and end with double underscores, like __init__ and __str__. They are also called magic methods because they allow customization of built-in behaviors of classes and objects.\n",
        "6. Explain the concept of inheritance in OOP?\n",
        "- Inheritance in Object-Oriented Programming (OOP) is a mechanism that allows a class (child/subclass) to inherit attributes and methods from another class (parent/superclass). It promotes code reusability, reduces redundancy, and establishes a hierarchical relationship between classes.\n",
        "\n",
        "Types of Inheritance:\n",
        "\n",
        "Single Inheritance – A subclass inherits from one parent class.\n",
        "Multiple Inheritance – A subclass inherits from multiple parent classes.\n",
        "Multilevel Inheritance – A subclass inherits from another subclass, forming a chain.\n",
        "Hierarchical Inheritance – Multiple subclasses inherit from a single parent class.\n",
        "Hybrid Inheritance – A combination of two or more types of inheritance.\n",
        "7. What is polymorphism in OOP?\n",
        "- Polymorphism in Object-Oriented Programming (OOP) is the ability of different classes to be treated as instances of the same class through a common interface. It allows methods to have the same name but behave differently based on the object calling them.\n",
        "8. How is encapsulation achieved in Python?\n",
        "- Encapsulation is achieved in Python by restricting direct access to class attributes and methods while providing controlled access through getters, setters, and access modifiers. This ensures data security, integrity, and modularity in OOP.\n",
        "9.  What is a constructor in Python?\n",
        "- A constructor is a special method in Python used to initialize an object when it is created. In Python, the constructor method is called __init__(). It sets up the initial state of an object by assigning values to instance variables.\n",
        "10. What are class and static methods in Python?\n",
        "- In Python, both class methods and static methods are used to define behaviors that are related to a class rather than a specific instance. They are defined using decorators:\n",
        "\n",
        "Class Method\n",
        "\n",
        "A class method is a method that takes the class itself (cls) as its first parameter and can modify class-level attributes. It is defined using the classmethod decorator.\n",
        "\n",
        "Static Method\n",
        "\n",
        "A static method does not take self or cls as a parameter. It behaves like a regular function inside a class but is logically related to the class. It is defined using the @staticmethod decorator.\n",
        "11. What is method overloading in Python?\n",
        "- Method Overloading allows a class to have multiple methods with the same name but different numbers or types of parameters. However, Python does not support traditional method overloading like Java or C++. Instead, Python achieves similar functionality using default arguments, *args, and **kwargs.\n",
        "12. What is method overriding in OOP?\n",
        "- Method Overriding is a feature in Object-Oriented Programming (OOP) where a subclass provides a specific implementation of a method that is already defined in its parent class. The overridden method in the child class must have the same name, parameters, and return type as the method in the parent class.\n",
        "13.  What is a property decorator in Python?\n",
        "- The property decorator in Python is used to define getter, setter, and deleter methods for a class attribute, allowing controlled access to it. It helps in encapsulation by making an attribute read-only or controlled-modifiable without exposing it directly.\n",
        "14. Why is polymorphism important in OOP?\n",
        "- Polymorphism is a key concept in Object-Oriented Programming (OOP) that allows objects of different classes to be treated as objects of a common base class. It enables code flexibility, scalability, and reusability, making programs more maintainable and extensible.\n",
        "15. What is an abstract class in Python?\n",
        "- An abstract class in Python is a class that cannot be instantiated (you cannot create objects from it). It serves as a blueprint for other classes and contains one or more abstract methods, which must be implemented by subclasses.\n",
        "\n",
        "Abstract classes are defined using the ABC (Abstract Base Class) module from the abc library.\n",
        "16. What are the advantages of OOP?\n",
        "- Advantages of Object-Oriented Programming (OOP)\n",
        "\n",
        "*Code Reusability\n",
        "\n",
        "✅ OOP allows code reuse through inheritance, where a child class inherits attributes and methods from a parent class.\n",
        "\n",
        "✅ This reduces redundancy and makes code easier to maintain.\n",
        "\n",
        "* Encapsulation\n",
        "\n",
        "✅ OOP allows encapsulation, which means restricting direct access to data and ensuring that only authorized methods modify it.\n",
        "\n",
        "✅ This improves data security and integrity.\n",
        "\n",
        "* Polymorphism (Flexibility & Extensibility)\n",
        "\n",
        "\n",
        "✅ Polymorphism allows the same method name to have different implementations across different classes.\n",
        "\n",
        "\n",
        "✅ This makes code more flexible and scalable.\n",
        "\n",
        "* Improved Code Maintainability & Scalability\n",
        "\n",
        "✅ OOP helps in designing modular code that is easier to update and expand.\n",
        "\n",
        "✅ Large projects can be divided into smaller classes that are easy to manage.\n",
        "\n",
        "\n",
        "* Abstraction (Simplifies Complex Systems)\n",
        "\n",
        "✅ OOP allows abstraction, meaning hiding unnecessary details and exposing only the relevant functionalities.\n",
        "\n",
        "✅ This makes complex systems easier to understand and use.\n",
        "\n",
        "* Real-World Modeling\n",
        "\n",
        "✅ OOP allows programmers to model real-world objects (e.g., customers, employees, bank accounts) in a natural way.\n",
        "\n",
        "✅ This makes problem-solving more intuitive and efficient.\n",
        "\n",
        "* Better Collaboration in Large Teams\n",
        "\n",
        "✅ OOP enables team members to work independently on different parts of a project.\n",
        "\n",
        "✅ Since objects are self-contained, multiple developers can work on different classes without conflicts.\n",
        "17. What is the difference between a class variable and an instance variable?\n",
        "- A class variable is shared among all instances of a class, meaning its value is the same for every object unless explicitly changed at the class level. It is defined outside any method, typically at the top of the class, and belongs to the class itself rather than any specific instance. On the other hand, an instance variable is unique to each instance of a class and is defined inside the constructor (__init__ method) using self. Each object has its own copy of instance variables, allowing them to hold different values for different objects. Changes to an instance variable affect only that specific object, while changes to a class variable affect all instances that do not have an overridden value.\n",
        "18.  What is multiple inheritance in Python?\n",
        "- Multiple inheritance in Python allows a class to inherit from more than one parent class. This enables a child class to access attributes and methods from multiple base classes, combining their functionalities.\n",
        "19. Explain the purpose of ‘’__str__’ and ‘__repr__’ ‘ methods in Python?\n",
        "- Both __str__ and __repr__ are dunder (double underscore) methods in Python used to define how objects are represented as strings. They serve different purposes but are often confused.\n",
        "* __str__() – Readable String Representation\n",
        "\n",
        "✅ The __str__() method returns a user-friendly, readable string representation of an object.\n",
        "\n",
        "✅ It is called by the built-in str() function or when using print().\n",
        "\n",
        "✅ It should provide a human-readable description of the object.\n",
        "* __repr__() – Developer-Friendly Representation\n",
        "\n",
        "✅ The __repr__() method returns an unambiguous, detailed string meant for developers.\n",
        "\n",
        "✅ It is called by repr() and is useful for debugging.\n",
        "\n",
        "✅ It should return a valid Python expression that can recreate the object.\n",
        "* Using Both Together\n",
        "\n",
        "If __str__() is not defined, Python falls back to __repr__()\n",
        "20. What is the significance of the ‘super()’ function in Python/\n",
        "- The super() function is used in Python to call methods from a parent (superclass) in a child (subclass). It is commonly used in inheritance to avoid redundancy and improve code reusability.\n",
        "* . Basic Usage of super()\n",
        "\n",
        "It is often used inside the __init__() constructor to initialize the parent class attributes.\n",
        "* Using super() with Methods\n",
        "\n",
        "super() can also be used to call other parent class methods\n",
        "* super() in Multiple Inheritance & Method Resolution Order (MRO)\n",
        "\n",
        "Python resolves multiple inheritance using Method Resolution Order (MRO). super() ensures methods are called in the correct order.\n",
        "21. What is the significance of the __del__ method in Python?\n",
        "- Significance of the __del__ Method in Python\n",
        "\n",
        "The __del__ method in Python is a destructor method that is automatically called when an object is about to be destroyed (i.e., when there are no more references to it). It is used to clean up resources, such as closing files, releasing memory, or disconnecting from databases before the object is removed from memory.\n",
        "22. What is the difference between @staticmethod and @classmethod in Python?\n",
        "- ### **Difference Between `@staticmethod` and `@classmethod` in Python**  \n",
        "\n",
        "| Feature           | `@staticmethod` | `@classmethod` |\n",
        "|------------------|----------------|---------------|\n",
        "| **Binding** | Not bound to class or instance | Bound to the class |\n",
        "| **Access to Class (`cls`)** |  No access to class-level attributes or methods |  Has access to class-level attributes and methods |\n",
        "| **Access to Instance (`self`)** |  Cannot access instance attributes or methods |  Cannot access instance attributes but can modify class attributes |\n",
        "| **Usage** | Used for utility/helper functions that don’t depend on class or instance state | Used when a method needs to modify or work with class-level data |\n",
        "| **Decorator** | `@staticmethod` | `@classmethod` |\n",
        "| **When to Use?** | When the method is independent of class and instance attributes | When the method needs to modify class attributes but not instance attributes |\n",
        "\n",
        "23. How does polymorphism work in Python with inheritance?\n",
        "- Polymorphism in Python allows different classes to use the same method name while implementing their own behavior. When combined with inheritance, polymorphism enables subclasses to override parent class methods, allowing dynamic method calls based on the object type.\n",
        "\n",
        "Polymorphism Works with Inheritance\n",
        "\n",
        "* Method Overriding – A subclass redefines a method inherited from the parent class.\n",
        "* Dynamic Method Resolution – Python determines at runtime which method to call based on the object type.\n",
        "* Code Reusability – The same interface can be used for different data types, reducing redundant code.\n",
        "24.  What is method chaining in Python OOP?\n",
        "- Method chaining is a technique in Object-Oriented Programming (OOP) where multiple methods are called on the same object in a single line, improving code readability and efficiency. It works by returning self (the object itself) from each method, allowing subsequent method calls on the same instance.\n",
        "25. What is the purpose of the __call__ method in Python?\n",
        "- Purpose of the __call__ Method in Python\n",
        "\n",
        "The __call__ method in Python allows an instance of a class to be called like a function. When an object of a class has __call__ defined, calling the object as obj() triggers __call__ instead of raising an error\n",
        "\n",
        "\n",
        "\n"
      ],
      "metadata": {
        "id": "24PvYidPE5bD"
      }
    },
    {
      "cell_type": "markdown",
      "source": [
        "#Practical Questions"
      ],
      "metadata": {
        "id": "wMc1sIYePauB"
      }
    },
    {
      "cell_type": "code",
      "source": [
        "#1  Create a parent class Animal with a method speak() that prints a generic message. Create a child class Dog that overrides the speak() method to print \"Bark!\".\n",
        "class Animal:\n",
        "    def speak(self):\n",
        "        print(\"This animal makes a sound.\")\n",
        "\n",
        "class Dog(Animal):\n",
        "    def speak(self):\n",
        "        print(\"Bark!\")\n",
        "\n",
        "# Creating instances\n",
        "generic_animal = Animal()\n",
        "dog = Dog()\n",
        "\n",
        "# Calling the speak method\n",
        "generic_animal.speak()  # Output: This animal makes a sound.\n",
        "dog.speak()             # Output: Bark!\n"
      ],
      "metadata": {
        "colab": {
          "base_uri": "https://localhost:8080/"
        },
        "id": "LJMcmxaLPd9D",
        "outputId": "2aab1604-9041-4d12-8824-50c1f11dcd9b"
      },
      "execution_count": 1,
      "outputs": [
        {
          "output_type": "stream",
          "name": "stdout",
          "text": [
            "This animal makes a sound.\n",
            "Bark!\n"
          ]
        }
      ]
    },
    {
      "cell_type": "code",
      "source": [
        "# 2. Write a program to create an abstract class Shape with a method area(). Derive classes Circle and Rectangle from it and implement the area() method in both.\n",
        "from abc import ABC, abstractmethod\n",
        "\n",
        "class Shape(ABC):\n",
        "    @abstractmethod\n",
        "    def area(self):\n",
        "        pass\n",
        "\n",
        "class Circle(Shape):\n",
        "    def __init__(self, radius):\n",
        "        self.radius = radius\n",
        "\n",
        "    def area(self):\n",
        "        return 3.14 * self.radius * self.radius\n",
        "\n",
        "class Rectangle(Shape):\n",
        "    def __init__(self, length, width):\n",
        "        self.length = length\n",
        "        self.width = width\n",
        "\n",
        "    def area(self):\n",
        "        return self.length * self.width\n",
        "\n",
        "# Creating instances\n",
        "circle = Circle(5)\n",
        "rectangle = Rectangle(4, 6)\n",
        "\n",
        "# Printing areas\n",
        "print(\"Circle Area:\", circle.area())  # Output: 78.5\n",
        "print(\"Rectangle Area:\", rectangle.area())  # Output: 24\n"
      ],
      "metadata": {
        "colab": {
          "base_uri": "https://localhost:8080/"
        },
        "id": "tqHihlcJP4e-",
        "outputId": "7d6cb346-e689-4abb-9bda-508f7b820203"
      },
      "execution_count": 2,
      "outputs": [
        {
          "output_type": "stream",
          "name": "stdout",
          "text": [
            "Circle Area: 78.5\n",
            "Rectangle Area: 24\n"
          ]
        }
      ]
    },
    {
      "cell_type": "code",
      "source": [
        "# 3. Implement a multi-level inheritance scenario where a class Vehicle has an attribute type. Derive a class Car and further derive a class ElectricCar that adds a battery attribute.\n",
        "class Vehicle:\n",
        "    def __init__(self, vehicle_type):\n",
        "        self.vehicle_type = vehicle_type\n",
        "\n",
        "    def show_type(self):\n",
        "        print(f\"Vehicle Type: {self.vehicle_type}\")\n",
        "\n",
        "class Car(Vehicle):\n",
        "    def __init__(self, brand, model, vehicle_type=\"Car\"):\n",
        "        super().__init__(vehicle_type)\n",
        "        self.brand = brand\n",
        "        self.model = model\n",
        "\n",
        "    def show_car_info(self):\n",
        "        print(f\"Car Brand: {self.brand}, Model: {self.model}\")\n",
        "\n",
        "class ElectricCar(Car):\n",
        "    def __init__(self, brand, model, battery_capacity):\n",
        "        super().__init__(brand, model)\n",
        "        self.battery_capacity = battery_capacity\n",
        "\n",
        "    def show_battery_info(self):\n",
        "        print(f\"Battery Capacity: {self.battery_capacity} kWh\")\n",
        "\n",
        "# Creating instances\n",
        "vehicle = Vehicle(\"General Vehicle\")\n",
        "car = Car(\"Toyota\", \"Corolla\")\n",
        "electric_car = ElectricCar(\"Tesla\", \"Model S\", 100)\n",
        "\n",
        "# Displaying information\n",
        "vehicle.show_type()\n",
        "car.show_type()\n",
        "car.show_car_info()\n",
        "electric_car.show_type()\n",
        "electric_car.show_car_info()\n",
        "electric_car.show_battery_info()"
      ],
      "metadata": {
        "colab": {
          "base_uri": "https://localhost:8080/"
        },
        "id": "_fuPhdSXQJad",
        "outputId": "ed519a1b-f668-4364-bd5f-28cca069a963"
      },
      "execution_count": 5,
      "outputs": [
        {
          "output_type": "stream",
          "name": "stdout",
          "text": [
            "Vehicle Type: General Vehicle\n",
            "Vehicle Type: Car\n",
            "Car Brand: Toyota, Model: Corolla\n",
            "Vehicle Type: Car\n",
            "Car Brand: Tesla, Model: Model S\n",
            "Battery Capacity: 100 kWh\n"
          ]
        }
      ]
    },
    {
      "cell_type": "code",
      "source": [
        "#4. Demonstrate polymorphism by creating a base class Bird with a method fly(). Create two derived classes Sparrow and Penguin that override the fly() method.\n",
        "class Bird:\n",
        "    def fly(self):\n",
        "        print(\"Some birds can fly.\")\n",
        "\n",
        "class Sparrow(Bird):\n",
        "    def fly(self):\n",
        "        print(\"Sparrow flies high in the sky.\")\n",
        "\n",
        "class Penguin(Bird):\n",
        "    def fly(self):\n",
        "        print(\"Penguins cannot fly but can swim.\")\n",
        "\n",
        "# Creating instances\n",
        "bird = Bird()\n",
        "sparrow = Sparrow()\n",
        "penguin = Penguin()\n",
        "\n",
        "# Demonstrating polymorphism\n",
        "bird.fly()       # Output: Some birds can fly.\n",
        "sparrow.fly()    # Output: Sparrow flies high in the sky.\n",
        "penguin.fly()    # Output: Penguins cannot fly but can swim.\n"
      ],
      "metadata": {
        "colab": {
          "base_uri": "https://localhost:8080/"
        },
        "id": "Qx012TV0Qg2p",
        "outputId": "4b0bd2a8-6def-4dfa-fd3a-c1ac2e50e179"
      },
      "execution_count": 6,
      "outputs": [
        {
          "output_type": "stream",
          "name": "stdout",
          "text": [
            "Some birds can fly.\n",
            "Sparrow flies high in the sky.\n",
            "Penguins cannot fly but can swim.\n"
          ]
        }
      ]
    },
    {
      "cell_type": "code",
      "source": [
        "#5. Write a program to demonstrate encapsulation by creating a class BankAccount with private attributesv balance and methods to deposit, withdraw, and check balance.\n",
        "class BankAccount:\n",
        "    def __init__(self, balance=0):\n",
        "        self.__balance = balance  # Private attribute\n",
        "\n",
        "    def deposit(self, amount):\n",
        "        if amount > 0:\n",
        "            self.__balance += amount\n",
        "            print(f\"Deposited: {amount}\")\n",
        "        else:\n",
        "            print(\"Deposit amount must be positive.\")\n",
        "\n",
        "    def withdraw(self, amount):\n",
        "        if 0 < amount <= self.__balance:\n",
        "            self.__balance -= amount\n",
        "            print(f\"Withdrawn: {amount}\")\n",
        "        else:\n",
        "            print(\"Insufficient balance or invalid amount.\")\n",
        "\n",
        "    def check_balance(self):\n",
        "        print(f\"Current Balance: {self.__balance}\")\n",
        "\n",
        "# Creating an instance\n",
        "account = BankAccount(1000)\n",
        "\n",
        "# Demonstrating encapsulation\n",
        "account.check_balance()\n",
        "account.deposit(500)\n",
        "account.withdraw(300)\n",
        "account.check_balance()"
      ],
      "metadata": {
        "colab": {
          "base_uri": "https://localhost:8080/"
        },
        "id": "nNnR1Du_Qrrp",
        "outputId": "3907260c-15cd-4e6c-d468-0306031d35f9"
      },
      "execution_count": 7,
      "outputs": [
        {
          "output_type": "stream",
          "name": "stdout",
          "text": [
            "Current Balance: 1000\n",
            "Deposited: 500\n",
            "Withdrawn: 300\n",
            "Current Balance: 1200\n"
          ]
        }
      ]
    },
    {
      "cell_type": "code",
      "source": [
        "#6. Demonstrate runtime polymorphism using a method play() in a base class Instrument. Derive classes Guitar and Piano that implement their own version of play().\n",
        "class Instrument:\n",
        "    def play(self):\n",
        "        print(\"Playing an instrument.\")\n",
        "\n",
        "class Guitar(Instrument):\n",
        "    def play(self):\n",
        "        print(\"Strumming the guitar.\")\n",
        "\n",
        "class Piano(Instrument):\n",
        "    def play(self):\n",
        "        print(\"Playing the piano.\")\n",
        "\n",
        "# Demonstrating runtime polymorphism\n",
        "def play_instrument(instrument):\n",
        "    instrument.play()\n",
        "\n",
        "# Creating instances\n",
        "guitar = Guitar()\n",
        "piano = Piano()\n",
        "\n",
        "# Calling the play method with different objects\n",
        "play_instrument(guitar)  # Output: Strumming the guitar.\n",
        "play_instrument(piano)   # Output: Playing the piano."
      ],
      "metadata": {
        "colab": {
          "base_uri": "https://localhost:8080/"
        },
        "id": "L2h3lua5Q3j8",
        "outputId": "811e7ca0-d042-4566-bf3d-1164fb8cbb1f"
      },
      "execution_count": 8,
      "outputs": [
        {
          "output_type": "stream",
          "name": "stdout",
          "text": [
            "Strumming the guitar.\n",
            "Playing the piano.\n"
          ]
        }
      ]
    },
    {
      "cell_type": "code",
      "source": [
        "#7. Create a class MathOperations with a class method add_numbers() to add two numbers and a static method subtract_numbers() to subtract two numbers.\n",
        "class Instrument:\n",
        "    def play(self):\n",
        "        print(\"Playing an instrument.\")\n",
        "\n",
        "class Guitar(Instrument):\n",
        "    def play(self):\n",
        "        print(\"Strumming the guitar.\")\n",
        "\n",
        "class Piano(Instrument):\n",
        "    def play(self):\n",
        "        print(\"Playing the piano.\")\n",
        "\n",
        "# Demonstrating runtime polymorphism\n",
        "def play_instrument(instrument):\n",
        "    instrument.play()\n",
        "\n",
        "# Creating instances\n",
        "guitar = Guitar()\n",
        "piano = Piano()\n",
        "\n",
        "# Calling the play method with different objects\n",
        "play_instrument(guitar)  # Output: Strumming the guitar.\n",
        "play_instrument(piano)   # Output: Playing the piano.\n",
        "\n",
        "class MathOperations:\n",
        "    @classmethod\n",
        "    def add_numbers(cls, a, b):\n",
        "        return a + b\n",
        "\n",
        "    @staticmethod\n",
        "    def subtract_numbers(a, b):\n",
        "        return a - b\n",
        "\n",
        "# Demonstrating class and static methods\n",
        "print(\"Addition:\", MathOperations.add_numbers(10, 5))  # Output: 15\n",
        "print(\"Subtraction:\", MathOperations.subtract_numbers(10, 5))  # Output: 5\n"
      ],
      "metadata": {
        "colab": {
          "base_uri": "https://localhost:8080/"
        },
        "id": "uRQf6xdXRBaT",
        "outputId": "af7016c7-928e-4829-fe69-0cc11c79d6ec"
      },
      "execution_count": 9,
      "outputs": [
        {
          "output_type": "stream",
          "name": "stdout",
          "text": [
            "Strumming the guitar.\n",
            "Playing the piano.\n",
            "Addition: 15\n",
            "Subtraction: 5\n"
          ]
        }
      ]
    },
    {
      "cell_type": "code",
      "source": [
        "#8. Implement a class Person with a class method to count the total number of persons created.\n",
        "\n",
        "\n",
        "class Person:\n",
        "    count = 0  # Class variable to track the number of persons\n",
        "\n",
        "    def __init__(self, name):\n",
        "        self.name = name\n",
        "        Person.count += 1  # Increment count whenever a new instance is created\n",
        "\n",
        "    @classmethod\n",
        "    def total_persons(cls):\n",
        "        return f\"Total persons created: {cls.count}\"\n",
        "\n",
        "# Creating instances\n",
        "p1 = Person(\"Alice\")\n",
        "p2 = Person(\"Bob\")\n",
        "p3 = Person(\"Charlie\")\n",
        "\n",
        "# Checking total persons\n",
        "print(Person.total_persons())  # Output: Total persons created: 3\n"
      ],
      "metadata": {
        "colab": {
          "base_uri": "https://localhost:8080/"
        },
        "id": "15b8_ILmRTuj",
        "outputId": "0f9f47eb-1bf2-41fb-ad06-b0241abad5dd"
      },
      "execution_count": 10,
      "outputs": [
        {
          "output_type": "stream",
          "name": "stdout",
          "text": [
            "Total persons created: 3\n"
          ]
        }
      ]
    },
    {
      "cell_type": "code",
      "source": [
        "#9. Write a class Fraction with attributes numerator and denominator. Override the str method to display the fraction as \"numerator/denominator\".\n",
        "class Fraction:\n",
        "    def __init__(self, numerator, denominator):\n",
        "        self.numerator = numerator\n",
        "        self.denominator = denominator\n",
        "\n",
        "    def __str__(self):\n",
        "        return f\"{self.numerator}/{self.denominator}\"  # Override __str__ method\n",
        "\n",
        "# Creating a Fraction object\n",
        "frac = Fraction(3, 5)\n",
        "print(frac)  # Output: 3/5\n"
      ],
      "metadata": {
        "colab": {
          "base_uri": "https://localhost:8080/"
        },
        "id": "XlavddCRRmYQ",
        "outputId": "e3a41dae-8112-4bb3-fa5f-b0184598498c"
      },
      "execution_count": 12,
      "outputs": [
        {
          "output_type": "stream",
          "name": "stdout",
          "text": [
            "3/5\n"
          ]
        }
      ]
    },
    {
      "cell_type": "code",
      "source": [
        "#10 Demonstrate operator overloading by creating a class Vector and overriding the add method to add two vectors.\n",
        "class Vector:\n",
        "    def __init__(self, x, y):\n",
        "        self.x = x\n",
        "        self.y = y\n",
        "\n",
        "    def __add__(self, other):\n",
        "        \"\"\"Overloading the + operator to add two vectors\"\"\"\n",
        "        return Vector(self.x + other.x, self.y + other.y)\n",
        "\n",
        "    def __str__(self):\n",
        "        \"\"\"Return vector representation as a string\"\"\"\n",
        "        return f\"({self.x}, {self.y})\"\n",
        "\n",
        "# Creating vector objects\n",
        "v1 = Vector(2, 3)\n",
        "v2 = Vector(4, 5)\n",
        "\n",
        "# Adding two vectors using overloaded +\n",
        "result = v1 + v2\n",
        "\n",
        "# Displaying the result\n",
        "print(result)  # Output: (6, 8)\n"
      ],
      "metadata": {
        "colab": {
          "base_uri": "https://localhost:8080/"
        },
        "id": "8my1UwNmRyVB",
        "outputId": "13a95f99-d74c-44f0-d04c-8a8cdf9be47c"
      },
      "execution_count": 13,
      "outputs": [
        {
          "output_type": "stream",
          "name": "stdout",
          "text": [
            "(6, 8)\n"
          ]
        }
      ]
    },
    {
      "cell_type": "code",
      "source": [
        "#11. Create a class Person with attributes name and age. Add a method greet() that prints \"Hello, my name is {name} and I am {age} years old.\"\n",
        "class Person:\n",
        "    def __init__(self, name, age):\n",
        "        self.name = name\n",
        "        self.age = age\n",
        "\n",
        "    def greet(self):\n",
        "        \"\"\"Prints a greeting message with name and age\"\"\"\n",
        "        print(f\"Hello, my name is {self.name} and I am {self.age} years old.\")\n",
        "\n",
        "# Creating a Person object\n",
        "p1 = Person(\"Mehar\", 18)\n",
        "\n",
        "# Calling the greet method\n",
        "p1.greet()\n"
      ],
      "metadata": {
        "colab": {
          "base_uri": "https://localhost:8080/"
        },
        "id": "VYp3ULixR8K3",
        "outputId": "701936c8-cd61-4889-92e6-934bb5b8772c"
      },
      "execution_count": 14,
      "outputs": [
        {
          "output_type": "stream",
          "name": "stdout",
          "text": [
            "Hello, my name is Mehar and I am 18 years old.\n"
          ]
        }
      ]
    },
    {
      "cell_type": "code",
      "source": [
        "#12. Implement a class Student with attributes name and grades. Create a method average_grade() to compute the average of the grades\n",
        "class Student:\n",
        "    def __init__(self, name, grades):\n",
        "        self.name = name\n",
        "        self.grades = grades  # List of grades\n",
        "\n",
        "    def average_grade(self):\n",
        "        \"\"\"Computes and returns the average of the grades\"\"\"\n",
        "        if len(self.grades) == 0:\n",
        "            return 0  # Avoid division by zero\n",
        "        return sum(self.grades) / len(self.grades)\n",
        "\n",
        "# Creating a Student object\n",
        "s1 = Student(\"Mehar\", [85, 90, 78, 92, 88])\n",
        "\n",
        "# Displaying the average grade\n",
        "print(f\"{s1.name}'s average grade: {s1.average_grade():.2f}\")\n"
      ],
      "metadata": {
        "colab": {
          "base_uri": "https://localhost:8080/"
        },
        "id": "Yvv7nIrbSJw4",
        "outputId": "ce30ef3a-e680-42a6-facc-1c08ff434161"
      },
      "execution_count": 17,
      "outputs": [
        {
          "output_type": "stream",
          "name": "stdout",
          "text": [
            "Mehar's average grade: 86.60\n"
          ]
        }
      ]
    },
    {
      "cell_type": "code",
      "source": [
        "#13. Create a class Rectangle with methods set_dimensions() to set the dimensions and area() to calculate the area.\n",
        "class Rectangle:\n",
        "    def __init__(self):\n",
        "        self.length = 0\n",
        "        self.width = 0\n",
        "\n",
        "    def set_dimensions(self, length, width):\n",
        "        \"\"\"Sets the dimensions of the rectangle.\"\"\"\n",
        "        self.length = length\n",
        "        self.width = width\n",
        "\n",
        "    def area(self):\n",
        "        \"\"\"Calculates and returns the area of the rectangle.\"\"\"\n",
        "        return self.length * self.width\n",
        "\n",
        "# Creating a Rectangle object\n",
        "rect = Rectangle()\n",
        "\n",
        "# Setting dimensions\n",
        "rect.set_dimensions(5, 10)\n",
        "\n",
        "# Calculating and displaying area\n",
        "print(f\"Area of the rectangle: {rect.area()}\")  # Output: 50\n"
      ],
      "metadata": {
        "colab": {
          "base_uri": "https://localhost:8080/"
        },
        "id": "5mI2JkZOSb9O",
        "outputId": "51c4ee77-592f-4fee-f266-32a504bf96e0"
      },
      "execution_count": 18,
      "outputs": [
        {
          "output_type": "stream",
          "name": "stdout",
          "text": [
            "Area of the rectangle: 50\n"
          ]
        }
      ]
    },
    {
      "cell_type": "code",
      "source": [
        "#14. Create a class Employee with a method calculate_salary() that computes the salary based on hours worked and hourly rate. Create a derived class Manager that adds a bonus to the salary.\n",
        "class Employee:\n",
        "    def __init__(self, name, hours_worked, hourly_rate):\n",
        "        self.name = name\n",
        "        self.hours_worked = hours_worked\n",
        "        self.hourly_rate = hourly_rate\n",
        "\n",
        "    def calculate_salary(self):\n",
        "        \"\"\"Calculates salary based on hours worked and hourly rate.\"\"\"\n",
        "        return self.hours_worked * self.hourly_rate\n",
        "\n",
        "class Manager(Employee):\n",
        "    def __init__(self, name, hours_worked, hourly_rate, bonus):\n",
        "        super().__init__(name, hours_worked, hourly_rate)  # Inherit from Employee\n",
        "        self.bonus = bonus\n",
        "\n",
        "    def calculate_salary(self):\n",
        "        \"\"\"Calculates salary including the bonus for a manager.\"\"\"\n",
        "        base_salary = super().calculate_salary()  # Call parent method\n",
        "        return base_salary + self.bonus\n",
        "\n",
        "# Creating Employee and Manager objects\n",
        "emp = Employee(\"John\", 40, 20)  # 40 hours, $20 per hour\n",
        "mgr = Manager(\"Alice\", 45, 30, 500)  # 45 hours, $30 per hour, $500 bonus\n",
        "\n",
        "# Displaying salaries\n",
        "print(f\"{emp.name}'s Salary: ${emp.calculate_salary()}\")\n",
        "print(f\"{mgr.name}'s Salary (with bonus): ${mgr.calculate_salary()}\")\n"
      ],
      "metadata": {
        "colab": {
          "base_uri": "https://localhost:8080/"
        },
        "id": "m2gKXxiNSk8H",
        "outputId": "c6dd99c0-9117-4298-9f07-f222f2f6415e"
      },
      "execution_count": 19,
      "outputs": [
        {
          "output_type": "stream",
          "name": "stdout",
          "text": [
            "John's Salary: $800\n",
            "Alice's Salary (with bonus): $1850\n"
          ]
        }
      ]
    },
    {
      "cell_type": "code",
      "source": [
        "#15. Create a class Product with attributes name, price, and quantity. Implement a method total_price() that calculates the total price of the product.\n",
        "\n",
        "\n",
        "class Product:\n",
        "    def __init__(self, name, price, quantity):\n",
        "        self.name = name\n",
        "        self.price = price\n",
        "        self.quantity = quantity\n",
        "\n",
        "    def total_price(self):\n",
        "        \"\"\"Calculates and returns the total price of the product.\"\"\"\n",
        "        return self.price * self.quantity\n",
        "\n",
        "# Creating a Product object\n",
        "product1 = Product(\"Laptop\", 50000, 2)\n",
        "\n",
        "# Displaying total price\n",
        "print(f\"Total price for {product1.quantity} {product1.name}(s): ₹{product1.total_price()}\")\n"
      ],
      "metadata": {
        "colab": {
          "base_uri": "https://localhost:8080/"
        },
        "id": "B7bij9huSwby",
        "outputId": "02d4bd71-0d46-40ca-9695-15daf5618ba6"
      },
      "execution_count": 20,
      "outputs": [
        {
          "output_type": "stream",
          "name": "stdout",
          "text": [
            "Total price for 2 Laptop(s): ₹100000\n"
          ]
        }
      ]
    },
    {
      "cell_type": "code",
      "source": [
        "#16. Create a class Animal with an abstract method sound(). Create two derived classes Cow and Sheep that implement the sound() method.\n",
        "from abc import ABC, abstractmethod\n",
        "\n",
        "class Animal(ABC):\n",
        "    @abstractmethod\n",
        "    def sound(self):\n",
        "        \"\"\"Abstract method to be implemented by subclasses\"\"\"\n",
        "        pass\n",
        "\n",
        "class Cow(Animal):\n",
        "    def sound(self):\n",
        "        \"\"\"Implements the sound method for Cow\"\"\"\n",
        "        return \"Moo!\"\n",
        "\n",
        "class Sheep(Animal):\n",
        "    def sound(self):\n",
        "        \"\"\"Implements the sound method for Sheep\"\"\"\n",
        "        return \"Baa!\"\n",
        "\n",
        "# Creating instances of Cow and Sheep\n",
        "cow = Cow()\n",
        "sheep = Sheep()\n",
        "\n",
        "# Displaying the sounds\n",
        "print(f\"Cow: {cow.sound()}\")\n",
        "print(f\"Sheep: {sheep.sound()}\")\n",
        "\n",
        "\n",
        "\n"
      ],
      "metadata": {
        "colab": {
          "base_uri": "https://localhost:8080/"
        },
        "id": "qvKLB0rTTBZM",
        "outputId": "7bda8439-e5e4-4fa6-b33f-51e89d2e35d5"
      },
      "execution_count": 21,
      "outputs": [
        {
          "output_type": "stream",
          "name": "stdout",
          "text": [
            "Cow: Moo!\n",
            "Sheep: Baa!\n"
          ]
        }
      ]
    },
    {
      "cell_type": "code",
      "source": [
        "#17. Create a class Book with attributes title, author, and year_published. Add a method get_book_info() that returns a formatted string with the book's details.\n",
        "class Book:\n",
        "    def __init__(self, title, author, year_published):\n",
        "        self.title = title\n",
        "        self.author = author\n",
        "        self.year_published = year_published\n",
        "\n",
        "    def get_book_info(self):\n",
        "        \"\"\"Returns a formatted string with book details.\"\"\"\n",
        "        return f\"'{self.title}' by {self.author}, published in {self.year_published}.\"\n",
        "\n",
        "# Creating a Book object\n",
        "book1 = Book(\"The Alchemist\", \"Paulo Coelho\", 1988)\n",
        "\n",
        "# Displaying book information\n",
        "print(book1.get_book_info())\n"
      ],
      "metadata": {
        "colab": {
          "base_uri": "https://localhost:8080/"
        },
        "id": "5vk_FzHNTJqE",
        "outputId": "ac7bff1d-a524-4959-987e-d133ebb3c848"
      },
      "execution_count": 22,
      "outputs": [
        {
          "output_type": "stream",
          "name": "stdout",
          "text": [
            "'The Alchemist' by Paulo Coelho, published in 1988.\n"
          ]
        }
      ]
    },
    {
      "cell_type": "code",
      "source": [
        "#18. Create a class House with attributes address and price. Create a derived class Mansion that adds an attribute number_of_rooms.\n",
        "class House:\n",
        "    def __init__(self, address, price):\n",
        "        self.address = address\n",
        "        self.price = price\n",
        "\n",
        "    def get_details(self):\n",
        "        \"\"\"Returns details of the house.\"\"\"\n",
        "        return f\"Address: {self.address}, Price: ₹{self.price}\"\n",
        "\n",
        "class Mansion(House):\n",
        "    def __init__(self, address, price, number_of_rooms):\n",
        "        super().__init__(address, price)  # Inherit attributes from House\n",
        "        self.number_of_rooms = number_of_rooms\n",
        "\n",
        "    def get_details(self):\n",
        "        \"\"\"Returns details of the mansion, including number of rooms.\"\"\"\n",
        "        return f\"Address: {self.address}, Price: ₹{self.price}, Rooms: {self.number_of_rooms}\"\n",
        "\n",
        "# Creating objects\n",
        "house1 = House(\"123 Street, Delhi\", 5000000)\n",
        "mansion1 = Mansion(\"456 Avenue, Mumbai\", 20000000, 10)\n",
        "\n",
        "# Displaying details\n",
        "print(house1.get_details())\n",
        "print(mansion1.get_details())\n"
      ],
      "metadata": {
        "colab": {
          "base_uri": "https://localhost:8080/"
        },
        "id": "W5EsZ6RATT97",
        "outputId": "4d2c1c43-4db9-43dc-f23b-7b5c858af0b9"
      },
      "execution_count": 23,
      "outputs": [
        {
          "output_type": "stream",
          "name": "stdout",
          "text": [
            "Address: 123 Street, Delhi, Price: ₹5000000\n",
            "Address: 456 Avenue, Mumbai, Price: ₹20000000, Rooms: 10\n"
          ]
        }
      ]
    }
  ]
}